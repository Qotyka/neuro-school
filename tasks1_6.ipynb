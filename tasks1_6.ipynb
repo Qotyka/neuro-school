{
 "cells": [
  {
   "cell_type": "code",
   "execution_count": 1,
   "id": "7e238079-9806-42b8-a85f-1dbd60b0efb3",
   "metadata": {},
   "outputs": [],
   "source": [
    "#Задача 1\n",
    "#Напишите программу, которая считывает температуру в градусах Цельсия и выводит \"ХОЛОДНО\",\n",
    "#если температура меньше 15.5, \"ЖАРКО\", если температура больше 28, и \"НОРМАЛЬНО\" в остальных случаях."
   ]
  },
  {
   "cell_type": "code",
   "execution_count": 5,
   "id": "f011431a-556d-4796-b130-c4a1f910e679",
   "metadata": {},
   "outputs": [],
   "source": [
    "def check_temperature(t):\n",
    "    if(t < 15.5):\n",
    "        print(\"ХОЛОДНО\")\n",
    "    elif(t > 28):\n",
    "        print(\"ЖАРКО\")\n",
    "    else:\n",
    "        print(\"НОРМАЛЬНО\")"
   ]
  },
  {
   "cell_type": "code",
   "execution_count": 8,
   "id": "f55b0f03-b6b2-4ef6-b939-dca7697301f9",
   "metadata": {},
   "outputs": [
    {
     "name": "stdin",
     "output_type": "stream",
     "text": [
      " 30\n"
     ]
    },
    {
     "name": "stdout",
     "output_type": "stream",
     "text": [
      "ЖАРКО\n"
     ]
    }
   ],
   "source": [
    "temp = float(input())\n",
    "check_temperature(temp)"
   ]
  },
  {
   "cell_type": "code",
   "execution_count": null,
   "id": "df55b09e-46a8-4561-91c4-15ba627fea03",
   "metadata": {},
   "outputs": [],
   "source": [
    "#Задача 2\n",
    "#Напишите программу, которая находит кота. Пользователь вводит сначала количество строк, потом сами строки.\n",
    "#Если хотя бы в одной введённой строке нашлось сочетание букв «Кот» или «кот», программа выводит «МЯУ», иначе программа выводит «НЕТ»."
   ]
  },
  {
   "cell_type": "code",
   "execution_count": 13,
   "id": "dca974fc-ad6a-4144-9958-4f1e93a669f9",
   "metadata": {},
   "outputs": [],
   "source": [
    "def find_cat_in_str(str):\n",
    "    if str.find(\"кот\") != -1 or str.find(\"Кот\") != -1:\n",
    "        return True\n",
    "    return False\n",
    "\n",
    "def find_cat_in_text(text):\n",
    "    found = False\n",
    "    for str in text:\n",
    "        found = find_cat(str)\n",
    "    return found"
   ]
  },
  {
   "cell_type": "code",
   "execution_count": 14,
   "id": "aa43c41b-90d0-4517-bb2f-caa052e17f47",
   "metadata": {},
   "outputs": [
    {
     "name": "stdin",
     "output_type": "stream",
     "text": [
      " 2\n",
      " конь\n",
      " кот и слон\n"
     ]
    },
    {
     "name": "stdout",
     "output_type": "stream",
     "text": [
      "МЯУ\n"
     ]
    }
   ],
   "source": [
    "N = int(input())\n",
    "text = [input() for i in range(N)]\n",
    "found = find_cat_in_text(text)\n",
    "if found == True:\n",
    "    print(\"МЯУ\")\n",
    "else:\n",
    "    print(\"НЕТ\")"
   ]
  },
  {
   "cell_type": "code",
   "execution_count": null,
   "id": "961cd40d-7edd-4646-afd4-6f813b8189b4",
   "metadata": {},
   "outputs": [],
   "source": [
    "#Задача 3\n",
    "#Напишите программу, которая считывает слова, слово «стоп» — сигнал остановки (оно не должно принимать участие в анализе).\n",
    "#Из введённых слов нужно выбрать самое длинное и самое короткое (гарантируется, что все они имеют разную длину)\n",
    "#и проверить, есть ли все буквы короткого слова в длинном. Вывести «ДА» или «НЕТ» в зависимости от этого."
   ]
  },
  {
   "cell_type": "code",
   "execution_count": 34,
   "id": "9a46471c-4ffb-45e5-817c-9cec09ca7a9f",
   "metadata": {},
   "outputs": [],
   "source": [
    "def find_shortest_and_longest_word(words):\n",
    "    words.sort(key = lambda x: len(x))\n",
    "    return [words[0], words[-1]]\n",
    "\n",
    "def check_including(word_1, word_2):\n",
    "    return set(word_1) <= set(word_2)"
   ]
  },
  {
   "cell_type": "code",
   "execution_count": 35,
   "id": "999d47fc-5271-4cfb-9f37-e3603ce45181",
   "metadata": {},
   "outputs": [
    {
     "name": "stdin",
     "output_type": "stream",
     "text": [
      " ахахахахахахахаххах\n",
      " хах\n",
      " ухххахха\n",
      " стоп\n"
     ]
    },
    {
     "name": "stdout",
     "output_type": "stream",
     "text": [
      "['хах', 'ахахахахахахахаххах']\n",
      "ДА\n"
     ]
    }
   ],
   "source": [
    "words = list()\n",
    "word = \"\"\n",
    "while word != \"стоп\":\n",
    "    word = input()\n",
    "    words.append(word)\n",
    "words.pop()\n",
    "\n",
    "new_words = find_shortest_and_longest_word(words)\n",
    "is_including = check_including(new_words[0], new_words[-1])\n",
    "if(is_including):\n",
    "    print(\"ДА\")\n",
    "else:\n",
    "    print(\"НЕТ\")"
   ]
  },
  {
   "cell_type": "code",
   "execution_count": null,
   "id": "a831d66f-5061-407c-9f82-9d732da04831",
   "metadata": {},
   "outputs": [],
   "source": [
    "#Задача 4\n",
    "#Вы собираетесь в магазин и записываете, что нужно купить.\n",
    "#Напишите программу, которая считывает сначала количество покупок, потом по очереди сами эти покупки, затем выводит их же в том же порядке."
   ]
  },
  {
   "cell_type": "code",
   "execution_count": 37,
   "id": "94c54e55-c0a2-4765-90cb-f955e6d21c84",
   "metadata": {},
   "outputs": [
    {
     "name": "stdin",
     "output_type": "stream",
     "text": [
      " 4\n",
      " шишки\n",
      " мандарины\n",
      " елку\n",
      " игрушки\n"
     ]
    },
    {
     "name": "stdout",
     "output_type": "stream",
     "text": [
      "шишки\n",
      "мандарины\n",
      "елку\n",
      "игрушки\n"
     ]
    }
   ],
   "source": [
    "N = int(input())\n",
    "shopping_list = [input() for i in range(N)]\n",
    "for str in shopping_list:\n",
    "    print(str)"
   ]
  },
  {
   "cell_type": "code",
   "execution_count": null,
   "id": "25ee1d8f-ba7b-4aa4-ab41-6e00abc052e0",
   "metadata": {},
   "outputs": [],
   "source": [
    "#Задача 5\n",
    "#Очень холодно, вы дрожите, зуб на зуб не попадает, разговариваете соответственно."
   ]
  },
  {
   "cell_type": "code",
   "execution_count": 46,
   "id": "8094d24f-4ada-4134-b629-c8b84b4918c9",
   "metadata": {},
   "outputs": [
    {
     "name": "stdin",
     "output_type": "stream",
     "text": [
      " жимолость\n"
     ]
    },
    {
     "name": "stdout",
     "output_type": "stream",
     "text": [
      "жжииммооллооссттьь\n"
     ]
    }
   ],
   "source": [
    "symbols = list(input())\n",
    "new_symbols = ''.join(map(lambda x: x*2, symbols))\n",
    "print(new_symbols)"
   ]
  },
  {
   "cell_type": "code",
   "execution_count": null,
   "id": "9fea1e9a-d741-4dac-a703-ab6cf2be9fad",
   "metadata": {},
   "outputs": [],
   "source": [
    "#Задача 6\n",
    "#Напишите функцию greet(), чтобы она спрашивала у пользователя имя и фамилию (каждое на отдельной строке),\n",
    "#а затем выводила официальное приветствие в форме “Здравствуйте, {имя} {фамилия}.”."
   ]
  },
  {
   "cell_type": "code",
   "execution_count": 8,
   "id": "d13e8100-97a4-45f5-bb2a-4e0ab9d65fd8",
   "metadata": {},
   "outputs": [],
   "source": [
    "def greet():\n",
    "    print(f\"Здравствуйте, {input()} {input()}\")"
   ]
  },
  {
   "cell_type": "code",
   "execution_count": 7,
   "id": "434dd5bc-741b-4819-92b6-d518198432b4",
   "metadata": {},
   "outputs": [
    {
     "name": "stdin",
     "output_type": "stream",
     "text": [
      " Константин\n",
      " Захожев\n"
     ]
    },
    {
     "name": "stdout",
     "output_type": "stream",
     "text": [
      "Здравствуйте, Константин Захожев\n"
     ]
    }
   ],
   "source": [
    "greet()"
   ]
  }
 ],
 "metadata": {
  "kernelspec": {
   "display_name": "Python 3 (ipykernel)",
   "language": "python",
   "name": "python3"
  },
  "language_info": {
   "codemirror_mode": {
    "name": "ipython",
    "version": 3
   },
   "file_extension": ".py",
   "mimetype": "text/x-python",
   "name": "python",
   "nbconvert_exporter": "python",
   "pygments_lexer": "ipython3",
   "version": "3.11.5"
  }
 },
 "nbformat": 4,
 "nbformat_minor": 5
}
