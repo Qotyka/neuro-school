{
 "cells": [
  {
   "cell_type": "code",
   "execution_count": 1,
   "metadata": {},
   "outputs": [],
   "source": [
    "from Lupa import Lupa\n",
    "from Pupa import Pupa\n",
    "from Accountant import Accountant"
   ]
  },
  {
   "cell_type": "code",
   "execution_count": 2,
   "metadata": {},
   "outputs": [
    {
     "name": "stdout",
     "output_type": "stream",
     "text": [
      "Lupa  completed the task:  0 2 4 6 8\n",
      "Lupa  completed the task:  0 2 4 6 8\n",
      "Lupa  completed the task:  0 2 4 6 8\n",
      "Lupa  completed the task:  0 2 4 6 8\n",
      "Lupa  completed the task:  0 2 4 6 8\n",
      "Lupa  completed the task:  0 2 4 6 8\n",
      "Lupa  completed the task:  0 2 4 6 8\n",
      "Lupa  completed the task:  0 2 4 6 8\n",
      "Lupa  completed the task:  0 2 4 6 8\n",
      "Lupa  completed the task:  0 2 4 6 8\n",
      "Lupa  completed the task:  0 2 4 6 8\n",
      "Lupa  completed the task:  0 2 4 6 8\n",
      "Lupa  completed the task:  0 2 4 6 8\n",
      "Lupa  completed the task:  0 2 4 6 8\n",
      "Lupa  completed the task:  0 2 4 6 8\n",
      "Lupa  completed the task:  0 2 4 6 8\n",
      "Lupa  completed the task:  0 2 4 6 8\n",
      "Lupa  completed the task:  0 2 4 6 8\n",
      "Lupa  completed the task:  0 2 4 6 8\n",
      "Lupa  completed the task:  0 2 4 6 8\n",
      "Pupa  completed the task:  0 0 0 0 0\n",
      "Pupa  completed the task:  0 0 0 0 0\n",
      "Pupa  completed the task:  0 0 0 0 0\n",
      "Pupa  completed the task:  0 0 0 0 0\n",
      "Pupa  completed the task:  0 0 0 0 0\n",
      "Pupa  completed the task:  0 0 0 0 0\n",
      "Pupa  completed the task:  0 0 0 0 0\n",
      "Pupa  completed the task:  0 0 0 0 0\n",
      "Pupa  completed the task:  0 0 0 0 0\n",
      "Pupa  completed the task:  0 0 0 0 0\n",
      "Lupa's money:  2000\n",
      "Pupa's money:  1000\n"
     ]
    }
   ],
   "source": [
    "lupa = Lupa()\n",
    "pupa = Pupa()\n",
    "accountant = Accountant()\n",
    "lst1 = list(range(5))\n",
    "lst2 = list(range(5))\n",
    "\n",
    "for i in range(20):\n",
    "    lupa.do_work(lst1, lst2)\n",
    "\n",
    "for j in range(10):\n",
    "    pupa.do_work(lst1, lst2)\n",
    "\n",
    "accountant.give_salary(lupa)\n",
    "accountant.give_salary(pupa)\n",
    "\n",
    "print(\"Lupa's money: \", lupa.money)\n",
    "print(\"Pupa's money: \", pupa.money)"
   ]
  }
 ],
 "metadata": {
  "kernelspec": {
   "display_name": "Python 3 (ipykernel)",
   "language": "python",
   "name": "python3"
  },
  "language_info": {
   "codemirror_mode": {
    "name": "ipython",
    "version": 3
   },
   "file_extension": ".py",
   "mimetype": "text/x-python",
   "name": "python",
   "nbconvert_exporter": "python",
   "pygments_lexer": "ipython3",
   "version": "3.11.6"
  }
 },
 "nbformat": 4,
 "nbformat_minor": 4
}
