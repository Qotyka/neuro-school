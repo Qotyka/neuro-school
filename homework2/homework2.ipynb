{
 "cells": [
  {
   "cell_type": "code",
   "execution_count": null,
   "metadata": {},
   "outputs": [],
   "source": [
    "#1.Сортировка в обратном порядке\n",
    "#Пользователь сначала вводит количество чисел, а затем вводит сами числа, ваша задача отсортировать введенные пользователем числа и вывести их в обратном порядке.\n"
   ]
  },
  {
   "cell_type": "code",
   "execution_count": 3,
   "metadata": {},
   "outputs": [
    {
     "name": "stdout",
     "output_type": "stream",
     "text": [
      "10\n",
      "3\n",
      "1\n"
     ]
    }
   ],
   "source": [
    "N = int(input())\n",
    "numbers = [int(input()) for i in range(N)]\n",
    "numbers.sort(reverse = True)\n",
    "for num in numbers:\n",
    "    print(num)"
   ]
  },
  {
   "cell_type": "code",
   "execution_count": null,
   "metadata": {},
   "outputs": [],
   "source": [
    "#2.Фильтр\n",
    "#Напишите программу, которая проводит первичную обработку неких сложных и\n",
    "#глючных логов. Нужно удалить сочетание «%%» в начале некоторых строк и удалить\n",
    "#строки, начинающиеся с «####»."
   ]
  },
  {
   "cell_type": "code",
   "execution_count": 13,
   "metadata": {},
   "outputs": [
    {
     "name": "stdout",
     "output_type": "stream",
     "text": [
      "####&%^^^^\n",
      "qwtq2222\n",
      "%%fdsb\n",
      "qwtq2222\n",
      "fdsb\n"
     ]
    }
   ],
   "source": [
    "N = int(input())\n",
    "logs = [input() for i in range(N)]\n",
    "logs_to_delete = list()\n",
    "for log in logs:\n",
    "    print(log)\n",
    "    if(log.startswith(\"####\")):\n",
    "        logs_to_delete.append(log)\n",
    "    elif(log.startswith(r\"%%\")):\n",
    "        logs[logs.index(log)] = log[2::]\n",
    "for log in logs_to_delete:\n",
    "    logs.remove(log)\n",
    "for log in logs:\n",
    "    print(log)\n"
   ]
  },
  {
   "cell_type": "code",
   "execution_count": null,
   "metadata": {},
   "outputs": [],
   "source": [
    "#3.От и до\n",
    "#Напишите программу, которая считывает список чисел, а затем выводит сумму в\n",
    "#диапазоне от заданного до заданного. При этом в программе не должно\n",
    "#использоваться обращение к элементам по индексу.\n",
    "\n",
    "#На первой строке вводится натуральное число N — количество чисел\n",
    "#в списке. \n",
    "\n",
    "#Далее следуют N целых чисел из списка, каждое на отдельной\n",
    "#строке. \n",
    "\n",
    "#Затем на отдельных строках следуют начальный (p) и конечный (q) номера\n",
    "#элементов списка, который нужно просуммировать. Нумерация идёт с единицы. Гарантируется,\n",
    "#что 1≤ p ≤ q ≤ N."
   ]
  },
  {
   "cell_type": "code",
   "execution_count": 19,
   "metadata": {},
   "outputs": [
    {
     "name": "stdout",
     "output_type": "stream",
     "text": [
      "[2, 3, 4, 5]\n",
      "14\n"
     ]
    }
   ],
   "source": [
    "N = int(input())\n",
    "numbers = [int(input()) for i in range(N)]\n",
    "p, q = int(input()), int(input())\n",
    "print(sum(numbers[p-1:q]))"
   ]
  },
  {
   "cell_type": "code",
   "execution_count": null,
   "metadata": {},
   "outputs": [],
   "source": [
    "# 4. Список отличников\n",
    "# В школе №13 отличников по программированию награждают поездкой в Артек, но счастливых учеников может быть больше,\n",
    "# чем свободных мест - ваша задача определить отличников и если их больше чем свободных мест, то отсортировать их по фамилии и вывести тех, кто едет.\n",
    "# Напишите функцию Artek(s, n), которая принимает в качестве параметра строку,\n",
    "# содержащую имена отличников и их оценку, и число - количество свободных мест. Функция должна печатать фамилии тех, кто едет."
   ]
  },
  {
   "cell_type": "code",
   "execution_count": 37,
   "metadata": {},
   "outputs": [],
   "source": [
    "def Artek(s, n):\n",
    "    raw_second_name_and_mark = s.split(\", \")\n",
    "    second_name_and_mark = dict(map(lambda x: (x.split(\" \")[0], int(x.split(\" \")[1])), raw_second_name_and_mark))\n",
    "    deserve_vacation = list()\n",
    "    for (v, k) in second_name_and_mark.items():\n",
    "        if k == 5:\n",
    "            deserve_vacation.append(v)\n",
    "    if len(deserve_vacation) > n:\n",
    "        deserve_vacation = sorted(deserve_vacation)[:n:]\n",
    "    print(\", \".join(deserve_vacation))"
   ]
  },
  {
   "cell_type": "code",
   "execution_count": 38,
   "metadata": {},
   "outputs": [
    {
     "name": "stdout",
     "output_type": "stream",
     "text": [
      "Вдовиченко, Кац, Смирнова\n"
     ]
    }
   ],
   "source": [
    "students = input()\n",
    "number_of_vacations = int(input())\n",
    "Artek(students,number_of_vacations)"
   ]
  },
  {
   "cell_type": "code",
   "execution_count": null,
   "metadata": {},
   "outputs": [],
   "source": [
    "# 5. Пароль (*)\n",
    "# Переделайте программу для пароля из первой домашней работы так:\n",
    "# 1. Пароль должен содержать 6 или более символов - иначе функция\n",
    "# должна печатать \"Недопустимый пароль\".\n",
    "# 2. Если в пароле содержатся только цифры или только буквы одного\n",
    "# регистра, функция должна печатать \"Ненадежный пароль\".\n",
    "# 3. Если в пароле содержатся буквы разных регистров или буквы\n",
    "# одного регистра и цифры, функция должна печатать \"Слабый пароль\".\n",
    "# 4. Если в пароле содержатся и цифры, и буквы разных регистров,\n",
    "# функция должна печатать \"Надежный пароль\".\n",
    "#\n",
    "# Напишите функцию password_level(), которая\n",
    "# принимает на вход строку и определяет, является ли она надежным паролем."
   ]
  },
  {
   "cell_type": "code",
   "execution_count": 1,
   "metadata": {},
   "outputs": [],
   "source": [
    "def issinglereg_with_numbers(s):\n",
    "    symbols = \"\".join([x for x in s if x.isalpha()])\n",
    "    digits = \"\".join([x for x in s if x.isdigit()])\n",
    "    return  (len(symbols)+len(digits) == len(s)) and (symbols.islower() or symbols.isupper()) and (len(digits) != 0)"
   ]
  },
  {
   "cell_type": "code",
   "execution_count": 6,
   "metadata": {},
   "outputs": [],
   "source": [
    "def password_level(password):\n",
    "    if len(password) < 6:\n",
    "        print(\"Недопустимый пароль\")\n",
    "    elif password.isdigit() or (password.isalpha() and (password.islower() or password.isupper())):\n",
    "        print(\"Ненадежный пароль\")\n",
    "    elif password.isalpha() or issinglereg_with_numbers(password):\n",
    "        print(\"Слабый пароль\")\n",
    "    else:\n",
    "        print(\"Надежный пароль\")"
   ]
  },
  {
   "cell_type": "code",
   "execution_count": 12,
   "metadata": {},
   "outputs": [
    {
     "name": "stdout",
     "output_type": "stream",
     "text": [
      "Слабый пароль\n"
     ]
    }
   ],
   "source": [
    "password_level(input())"
   ]
  }
 ],
 "metadata": {
  "kernelspec": {
   "display_name": "base",
   "language": "python",
   "name": "python3"
  },
  "language_info": {
   "codemirror_mode": {
    "name": "ipython",
    "version": 3
   },
   "file_extension": ".py",
   "mimetype": "text/x-python",
   "name": "python",
   "nbconvert_exporter": "python",
   "pygments_lexer": "ipython3",
   "version": "3.11.5"
  }
 },
 "nbformat": 4,
 "nbformat_minor": 2
}
